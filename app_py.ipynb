{
  "cells": [
    {
      "cell_type": "code",
      "source": [
        "!pip install streamlit pyngrok pandas -q"
      ],
      "metadata": {
        "id": "BZ9NHNvZGx_t"
      },
      "execution_count": null,
      "outputs": []
    },
    {
      "cell_type": "code",
      "source": [
        "from pyngrok import ngrok\n",
        "ngrok.set_auth_token(\"34mnxhOy5H2Kq0wBzyfZzoZs1S5_nrrFTEWa8LseCHvmXwsg\")\n"
      ],
      "metadata": {
        "id": "50xX-j8fJFpA"
      },
      "execution_count": null,
      "outputs": []
    },
    {
      "cell_type": "code",
      "source": [
        "%%writefile app.py\n",
        "import pandas as pd\n",
        "import streamlit as st\n",
        "from google.colab import userdata\n",
        "\n",
        "# --- Define Q&A logic ---\n",
        "def answer_query(query, data):\n",
        "    query = query.lower()\n",
        "\n",
        "    if \"highest\" in query and \"production\" in query:\n",
        "        year = ''.join(filter(str.isdigit, query))\n",
        "        if year:\n",
        "            df = data[data['Year'].astype(str).str.contains(year)]\n",
        "            if not df.empty:\n",
        "                top_state = df.groupby('State')['Production'].sum().idxmax()\n",
        "                value = df.groupby('State')['Production'].sum().max()\n",
        "                return f\"In {year}, {top_state} had the highest rice production of {value:,.0f} tonnes. (Source: Agriculture Dataset)\"\n",
        "            else:\n",
        "                return f\"No data available for the year {year}.\"\n",
        "\n",
        "    elif \"average rainfall\" in query:\n",
        "        for state in data['State'].unique():\n",
        "            if state.lower() in query:\n",
        "                avg_rain = data[data['State'].str.lower() == state.lower()]['ANNUAL'].mean()\n",
        "                return f\"The average annual rainfall in {state} is {avg_rain:.2f} mm. (Source: IMD Rainfall Dataset)\"\n",
        "\n",
        "    elif \"top\" in query and \"production\" in query:\n",
        "        top_n = [int(s) for s in query.split() if s.isdigit()]\n",
        "        n = top_n[0] if top_n else 5\n",
        "        top_states = data.groupby('State')['Production'].sum().nlargest(n)\n",
        "        result = \"\\n\".join([f\"{i+1}. {state}: {prod:,.0f} tonnes\"\n",
        "                            for i, (state, prod) in enumerate(top_states.items())])\n",
        "        return f\"Top {n} states with highest rice production:\\n{result}\\n(Source: Agriculture Dataset)\"\n",
        "    else:\n",
        "        return \"Sorry, I couldn’t understand the question clearly. Try rephrasing!\"\n",
        "\n",
        "# --- Streamlit UI ---\n",
        "st.title(\"🌾 India Agriculture & Rainfall Q&A System\")\n",
        "st.write(\"Ask questions about rainfall and crop production across Indian states. Data sourced from public datasets (Kaggle / data.gov.in equivalent).\")\n",
        "\n",
        "# Load data\n",
        "data = pd.read_csv(\"/content/cleaned_rainfall_crop.csv\")\n",
        "\n",
        "query = st.text_input(\"Ask a question (e.g. 'Which state had the highest rice production in 2010?')\")\n",
        "if query:\n",
        "    answer = answer_query(query, data)\n",
        "    st.success(answer)"
      ],
      "metadata": {
        "colab": {
          "base_uri": "https://localhost:8080/"
        },
        "id": "8U3rol7SJJya",
        "outputId": "3d4cd2a8-f284-4787-9caa-ab8cbf2eb2bd"
      },
      "execution_count": null,
      "outputs": [
        {
          "output_type": "stream",
          "name": "stdout",
          "text": [
            "Overwriting app.py\n"
          ]
        }
      ]
    },
    {
      "cell_type": "code",
      "source": [
        "import pandas as pd\n",
        "data = pd.read_csv(\"/content/cleaned_rainfall_crop.csv\")"
      ],
      "metadata": {
        "id": "EKYahvHjJJuP"
      },
      "execution_count": null,
      "outputs": []
    },
    {
      "cell_type": "code",
      "source": [
        "# --- Define Q&A logic ---\n",
        "def answer_query(query, data):\n",
        "    query = query.lower()\n",
        "\n",
        "    if \"highest\" in query and \"production\" in query:\n",
        "        year = ''.join(filter(str.isdigit, query))\n",
        "        if year:\n",
        "            df = data[data['Year'].astype(str).str.contains(year)]\n",
        "            if not df.empty:\n",
        "                top_state = df.groupby('State')['Production'].sum().idxmax()\n",
        "                value = df.groupby('State')['Production'].sum().max()\n",
        "                return f\"In {year}, {top_state} had the highest rice production of {value:,.0f} tonnes. (Source: Agriculture Dataset)\"\n",
        "            else:\n",
        "                return f\"No data available for the year {year}.\"\n",
        "\n",
        "    elif \"average rainfall\" in query:\n",
        "        for state in data['State'].unique():\n",
        "            if state.lower() in query:\n",
        "                avg_rain = data[data['State'].str.lower() == state.lower()]['ANNUAL'].mean()\n",
        "                return f\"The average annual rainfall in {state} is {avg_rain:.2f} mm. (Source: IMD Rainfall Dataset)\"\n",
        "\n",
        "    elif \"top\" in query and \"production\" in query:\n",
        "        top_n = [int(s) for s in query.split() if s.isdigit()]\n",
        "        n = top_n[0] if top_n else 5\n",
        "        top_states = data.groupby('State')['Production'].sum().nlargest(n)\n",
        "        result = \"\\n\".join([f\"{i+1}. {state}: {prod:,.0f} tonnes\"\n",
        "                            for i, (state, prod) in enumerate(top_states.items())])\n",
        "        return f\"Top {n} states with highest rice production:\\n{result}\\n(Source: Agriculture Dataset)\"\n",
        "    else:\n",
        "        return \"Sorry, I couldn’t understand the question clearly. Try rephrasing!\""
      ],
      "metadata": {
        "id": "rWyzwta2JJqz"
      },
      "execution_count": null,
      "outputs": []
    },
    {
      "cell_type": "code",
      "source": [
        "print(\"🚀 Starting Streamlit app...\")\n",
        "\n",
        "# Run streamlit in background\n",
        "!streamlit run app.py &>/content/logs.txt &\n",
        "\n",
        "# Create tunnel\n",
        "public_url = ngrok.connect(8501)\n",
        "print(\"🌐 Streamlit app is live here:\\n\", public_url)"
      ],
      "metadata": {
        "colab": {
          "base_uri": "https://localhost:8080/"
        },
        "id": "96f-19zmJJnk",
        "outputId": "c8726045-d018-4b8a-dbb5-12dcccd03b31"
      },
      "execution_count": null,
      "outputs": [
        {
          "output_type": "stream",
          "name": "stdout",
          "text": [
            "🚀 Starting Streamlit app...\n",
            "🌐 Streamlit app is live here:\n",
            " NgrokTunnel: \"https://noisily-nonconjecturable-eleonor.ngrok-free.dev\" -> \"http://localhost:8501\"\n"
          ]
        }
      ]
    },
    {
      "cell_type": "code",
      "source": [
        "!streamlit run app.py &>/content/logs.txt &\n",
        "public_url = ngrok.connect(8501)\n",
        "print(public_url)\n"
      ],
      "metadata": {
        "colab": {
          "base_uri": "https://localhost:8080/"
        },
        "id": "52yYg5qCKcdn",
        "outputId": "52a49856-1813-4912-9edb-2ac4a628b09c"
      },
      "execution_count": null,
      "outputs": [
        {
          "output_type": "stream",
          "name": "stdout",
          "text": [
            "NgrokTunnel: \"https://noisily-nonconjecturable-eleonor.ngrok-free.dev\" -> \"http://localhost:8501\"\n"
          ]
        }
      ]
    },
    {
      "cell_type": "code",
      "source": [],
      "metadata": {
        "id": "5bnE_s5PK6cp"
      },
      "execution_count": null,
      "outputs": []
    }
  ],
  "metadata": {
    "colab": {
      "provenance": [],
      "gpuType": "T4"
    },
    "kernelspec": {
      "display_name": "Python 3",
      "name": "python3"
    },
    "language_info": {
      "name": "python"
    },
    "accelerator": "GPU"
  },
  "nbformat": 4,
  "nbformat_minor": 0
}